{
 "cells": [
  {
   "cell_type": "code",
   "execution_count": 9,
   "id": "ae7cd718",
   "metadata": {},
   "outputs": [
    {
     "name": "stderr",
     "output_type": "stream",
     "text": [
      "Cannot find /home/abozar/pathogenereads/outputscontig_6051/options.json, switching to normal mode\n",
      "2024-04-01 22:16:47 - MEGAHIT v1.2.9\n",
      "2024-04-01 22:16:47 - Using megahit_core with POPCNT and BMI2 support\n",
      "2024-04-01 22:16:47 - Convert reads to binary library\n",
      "2024-04-01 22:16:47 - b'INFO  sequence/io/sequence_lib.cpp  :   77 - Lib 0 (/home/abozar/pathogenereads/outputs/unmapped.fasta): se, 540115 reads, 150 max length'\n",
      "2024-04-01 22:16:47 - b'INFO  utils/utils.h                 :  152 - Real: 0.2487\\tuser: 0.2173\\tsys: 0.0316\\tmaxrss: 42604'\n",
      "2024-04-01 22:16:47 - k-max reset to: 141 \n",
      "2024-04-01 22:16:47 - Start assembly. Number of CPU threads 20 \n",
      "2024-04-01 22:16:47 - k list: 21,29,39,59,79,99,119,141 \n",
      "2024-04-01 22:16:47 - Memory used: 60513096499\n",
      "2024-04-01 22:16:47 - Extract solid (k+1)-mers for k = 21 \n",
      "2024-04-01 22:16:48 - Build graph for k = 21 \n",
      "2024-04-01 22:16:50 - Assemble contigs from SdBG for k = 21\n",
      "2024-04-01 22:16:53 - Local assembly for k = 21\n",
      "2024-04-01 22:16:55 - Extract iterative edges from k = 21 to 29 \n",
      "2024-04-01 22:16:55 - Build graph for k = 29 \n",
      "2024-04-01 22:16:56 - Assemble contigs from SdBG for k = 29\n",
      "2024-04-01 22:16:58 - Local assembly for k = 29\n",
      "2024-04-01 22:17:00 - Extract iterative edges from k = 29 to 39 \n",
      "2024-04-01 22:17:00 - Build graph for k = 39 \n",
      "2024-04-01 22:17:01 - Assemble contigs from SdBG for k = 39\n",
      "2024-04-01 22:17:03 - Local assembly for k = 39\n",
      "2024-04-01 22:17:05 - Extract iterative edges from k = 39 to 59 \n",
      "2024-04-01 22:17:05 - Build graph for k = 59 \n",
      "2024-04-01 22:17:06 - Assemble contigs from SdBG for k = 59\n",
      "2024-04-01 22:17:07 - Local assembly for k = 59\n",
      "2024-04-01 22:17:10 - Extract iterative edges from k = 59 to 79 \n",
      "2024-04-01 22:17:10 - Build graph for k = 79 \n",
      "2024-04-01 22:17:10 - Assemble contigs from SdBG for k = 79\n",
      "2024-04-01 22:17:11 - Local assembly for k = 79\n",
      "2024-04-01 22:17:14 - Extract iterative edges from k = 79 to 99 \n",
      "2024-04-01 22:17:14 - Build graph for k = 99 \n",
      "2024-04-01 22:17:14 - Assemble contigs from SdBG for k = 99\n",
      "2024-04-01 22:17:15 - Local assembly for k = 99\n",
      "2024-04-01 22:17:18 - Extract iterative edges from k = 99 to 119 \n",
      "2024-04-01 22:17:18 - Build graph for k = 119 \n",
      "2024-04-01 22:17:18 - Assemble contigs from SdBG for k = 119\n",
      "2024-04-01 22:17:18 - Local assembly for k = 119\n",
      "2024-04-01 22:17:21 - Extract iterative edges from k = 119 to 141 \n",
      "2024-04-01 22:17:21 - Build graph for k = 141 \n",
      "2024-04-01 22:17:21 - Assemble contigs from SdBG for k = 141\n"
     ]
    },
    {
     "name": "stdout",
     "output_type": "stream",
     "text": [
      "MegaHit de novo assembly completed. Output directory: /home/abozar/pathogenereads/outputscontig_6051\n"
     ]
    },
    {
     "name": "stderr",
     "output_type": "stream",
     "text": [
      "2024-04-01 22:17:21 - Merging to output final contigs \n",
      "2024-04-01 22:17:21 - 3919 contigs, total 1773988 bp, min 269 bp, max 4394 bp, avg 452 bp, N50 429 bp\n",
      "2024-04-01 22:17:21 - ALL DONE. Time elapsed: 34.378505 seconds \n"
     ]
    }
   ],
   "source": [
    "import os\n",
    "import subprocess\n",
    "\n",
    "# Define the paths provided by the user\n",
    "fasta_data = \"/home/abozar/pathogenereads/outputs/unmapped.fasta\"\n",
    "outputs_dir = \"/home/abozar/pathogenereads/outputscontig\"\n",
    "megahit_path = \"/home/abozar/MegaHit/MEGAHIT-1.2.9-Linux-x86_64-static/bin/megahit\"\n",
    "\n",
    "# Create a unique output directory name by appending a random number\n",
    "random_number = random.randint(1000, 9999)\n",
    "unique_outputs_dir = f\"{outputs_dir}_{random_number}\"\n",
    "\n",
    "# Define the command to run MegaHit for de novo assembly\n",
    "megahit_cmd = [\n",
    "    megahit_path,\n",
    "    \"-r\", fasta_data,  # Input reads\n",
    "    \"-o\", unique_outputs_dir,  # Output directory\n",
    "    \"--continue\"  # Continue an interrupted assembly\n",
    "]\n",
    "\n",
    "# Run the MegaHit command\n",
    "subprocess.run(megahit_cmd, check=True)\n",
    "\n",
    "# Print a success message\n",
    "print(f\"MegaHit de novo assembly completed. Output directory: {unique_outputs_dir}\")\n"
   ]
  },
  {
   "cell_type": "code",
   "execution_count": null,
   "id": "b47214c2",
   "metadata": {},
   "outputs": [],
   "source": []
  }
 ],
 "metadata": {
  "kernelspec": {
   "display_name": "Python 3 (ipykernel)",
   "language": "python",
   "name": "python3"
  },
  "language_info": {
   "codemirror_mode": {
    "name": "ipython",
    "version": 3
   },
   "file_extension": ".py",
   "mimetype": "text/x-python",
   "name": "python",
   "nbconvert_exporter": "python",
   "pygments_lexer": "ipython3",
   "version": "3.11.5"
  }
 },
 "nbformat": 4,
 "nbformat_minor": 5
}
