{
 "cells": [
  {
   "cell_type": "code",
   "execution_count": 3,
   "id": "55f7584d-c8c4-4382-8cb6-6fbb0baa64d3",
   "metadata": {},
   "outputs": [
    {
     "name": "stdout",
     "output_type": "stream",
     "text": [
      "FASTA sequences fetched and saved to /media/abozar/681e530e-4d85-4935-bf82-2982db68ef99/abozar/pathogenereads/blast2/fetched_sequences.fasta\n"
     ]
    }
   ],
   "source": [
    "from Bio import Entrez, SeqIO\n",
    "import pandas as pd\n",
    "\n",
    "def fetch_fasta(accession_numbers):\n",
    "    Entrez.email = \"ghorbani.abozar@gmail.com\"  # Set your email address\n",
    "    sequences = []\n",
    "\n",
    "    for accession_number in accession_numbers:\n",
    "        handle = Entrez.efetch(db=\"nucleotide\", id=accession_number, rettype=\"fasta\", retmode=\"text\")\n",
    "        record = SeqIO.read(handle, \"fasta\")\n",
    "        sequences.append(record)\n",
    "        handle.close()\n",
    "\n",
    "    return sequences\n",
    "\n",
    "def save_fasta(sequences, output_file):\n",
    "    with open(output_file, 'w') as fasta_file:\n",
    "        SeqIO.write(sequences, fasta_file, \"fasta\")\n",
    "\n",
    "# Path to the Excel file\n",
    "excel_file = \"/media/abozar/681e530e-4d85-4935-bf82-2982db68ef99/abozar/pathogenereads/blast2/virusfilter.xlsx\"\n",
    "output_file = \"/media/abozar/681e530e-4d85-4935-bf82-2982db68ef99/abozar/pathogenereads/blast2/fetched_sequences.fasta\"\n",
    "\n",
    "# Read the Excel file and extract accession numbers from the 'Subject Def' column\n",
    "df = pd.read_excel(excel_file)\n",
    "accession_numbers = set(df['Subject Def'].apply(lambda x: x.split(' ')[0]))\n",
    "\n",
    "sequences = fetch_fasta(accession_numbers)\n",
    "save_fasta(sequences, output_file)\n",
    "\n",
    "print(\"FASTA sequences fetched and saved to\", output_file)\n"
   ]
  },
  {
   "cell_type": "code",
   "execution_count": null,
   "id": "7f48fe30-5dbb-4e02-8018-e5ea476ad4b9",
   "metadata": {},
   "outputs": [],
   "source": []
  }
 ],
 "metadata": {
  "kernelspec": {
   "display_name": "Python 3 (ipykernel)",
   "language": "python",
   "name": "python3"
  },
  "language_info": {
   "codemirror_mode": {
    "name": "ipython",
    "version": 3
   },
   "file_extension": ".py",
   "mimetype": "text/x-python",
   "name": "python",
   "nbconvert_exporter": "python",
   "pygments_lexer": "ipython3",
   "version": "3.10.12"
  }
 },
 "nbformat": 4,
 "nbformat_minor": 5
}
