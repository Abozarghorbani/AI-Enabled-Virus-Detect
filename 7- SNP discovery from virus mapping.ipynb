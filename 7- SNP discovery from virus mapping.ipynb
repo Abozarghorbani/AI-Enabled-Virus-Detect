{
 "cells": [
  {
   "cell_type": "code",
   "execution_count": 6,
   "id": "e9ecca25",
   "metadata": {},
   "outputs": [
    {
     "name": "stdout",
     "output_type": "stream",
     "text": [
      "SNP discovery is complete. Detailed SNP information is saved in /home/abozar/pathogenereads/SNP/SNP_output.xlsx\n"
     ]
    }
   ],
   "source": [
    "import pandas as pd\n",
    "import pysam\n",
    "from collections import Counter\n",
    "\n",
    "# Define the paths to the input and output files\n",
    "sam_file_path = \"/home/abozar/pathogenereads/blast/aligned.sam\"\n",
    "snp_output_path = \"/home/abozar/pathogenereads/SNP/SNP_output.xlsx\"\n",
    "reference_path = \"/home/abozar/pathogenereads/blast/fetched_sequences.fasta\"\n",
    "\n",
    "# Open the SAM file for reading\n",
    "samfile = pysam.AlignmentFile(sam_file_path, \"r\")\n",
    "\n",
    "# Open the reference genome file and read the contents\n",
    "with open(reference_path, 'r') as ref_file:\n",
    "    reference_genome = ref_file.read()\n",
    "\n",
    "# Function to find SNPs\n",
    "def find_snps(samfile, reference_genome):\n",
    "    snps = {}\n",
    "    for read in samfile.fetch():\n",
    "        # Skip unmapped reads\n",
    "        if read.is_unmapped:\n",
    "            continue\n",
    "        \n",
    "        # Get the reference sequence for the read\n",
    "        ref_seq = reference_genome[read.reference_start:read.reference_end]\n",
    "        \n",
    "        # Get the query sequence (read)\n",
    "        query_seq = read.query_sequence\n",
    "        \n",
    "        # Compare the reference and query sequences to find mismatches (SNPs)\n",
    "        for i, (ref_base, query_base) in enumerate(zip(ref_seq, query_seq)):\n",
    "            if ref_base != query_base:\n",
    "                position = read.reference_start + i\n",
    "                if position not in snps:\n",
    "                    snps[position] = {'ref_base': ref_base, 'query_bases': Counter()}\n",
    "                snps[position]['query_bases'][query_base] += 1\n",
    "    return snps\n",
    "\n",
    "# Find SNPs\n",
    "snps = find_snps(samfile, reference_genome)\n",
    "\n",
    "# Prepare data for Excel output\n",
    "snp_data = []\n",
    "for position, info in snps.items():\n",
    "    coverage = sum(info['query_bases'].values())\n",
    "    for query_base, count in info['query_bases'].items():\n",
    "        frequency = count / coverage\n",
    "        snp_data.append({\n",
    "            'Position': position,\n",
    "            'Reference': info['ref_base'],\n",
    "            'Allele': query_base,\n",
    "            'Frequency': frequency,\n",
    "            'Coverage': coverage\n",
    "        })\n",
    "\n",
    "# Create a DataFrame and save as Excel\n",
    "df = pd.DataFrame(snp_data)\n",
    "df.to_excel(snp_output_path, index=False)\n",
    "\n",
    "# Close the SAM file\n",
    "samfile.close()\n",
    "\n",
    "# Print a success message\n",
    "print(f\"SNP discovery is complete. Detailed SNP information is saved in {snp_output_path}\")\n"
   ]
  },
  {
   "cell_type": "code",
   "execution_count": null,
   "id": "5899fd2b",
   "metadata": {},
   "outputs": [],
   "source": []
  }
 ],
 "metadata": {
  "kernelspec": {
   "display_name": "Python 3 (ipykernel)",
   "language": "python",
   "name": "python3"
  },
  "language_info": {
   "codemirror_mode": {
    "name": "ipython",
    "version": 3
   },
   "file_extension": ".py",
   "mimetype": "text/x-python",
   "name": "python",
   "nbconvert_exporter": "python",
   "pygments_lexer": "ipython3",
   "version": "3.11.5"
  }
 },
 "nbformat": 4,
 "nbformat_minor": 5
}
