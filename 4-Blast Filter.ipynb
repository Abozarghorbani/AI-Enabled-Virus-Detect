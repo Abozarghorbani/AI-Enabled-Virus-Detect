{
 "cells": [
  {
   "cell_type": "code",
   "execution_count": 2,
   "id": "36bef9de",
   "metadata": {},
   "outputs": [
    {
     "name": "stdout",
     "output_type": "stream",
     "text": [
      "Filtered Excel file saved to /home/abozar/pathogenereads/blast2/virusfilter.xlsx.\n"
     ]
    }
   ],
   "source": [
    "#virus filter\n",
    "\n",
    "import pandas as pd\n",
    "\n",
    "# Define the path to the Excel file and the filter file\n",
    "excel_file = \"/home/abozar/pathogenereads/blast2/merged_results.xlsx\"\n",
    "filter_file = \"/home/abozar/pathogenereads/blast2/virusfilter.xlsx\"\n",
    "\n",
    "# Load the Excel file\n",
    "try:\n",
    "    df = pd.read_excel(excel_file)\n",
    "except Exception as e:\n",
    "    print(f\"An error occurred: {e}\")\n",
    "\n",
    "# Proceed if no exception was raised\n",
    "else:\n",
    "    # Define the keywords to filter by\n",
    "    keywords = [\"virus\"]\n",
    "\n",
    "    # Check if the required columns exist in the DataFrame\n",
    "    required_columns = ['Subject Def', 'Alignment Length', 'E-value']\n",
    "    if all(column in df.columns for column in required_columns):\n",
    "        # Filter the DataFrame to keep rows where column 'Subject Def' contains any of the keywords\n",
    "        filtered_df = df[df['Subject Def'].str.contains('|'.join(keywords), case=False, na=False)]\n",
    "\n",
    "        # Apply additional filters\n",
    "        filtered_df = filtered_df[filtered_df['Alignment Length'] >= 1000]  # Filter by 'Alignment Length'\n",
    "        filtered_df = filtered_df[filtered_df['E-value'] <= 0.001]  # Filter by 'E-value'\n",
    "\n",
    "        # Save the filtered DataFrame to a new Excel file\n",
    "        filtered_df.to_excel(filter_file, index=False)\n",
    "\n",
    "        # Print a success message\n",
    "        print(f\"Filtered Excel file saved to {filter_file}.\")\n",
    "    else:\n",
    "        missing_columns = [column for column in required_columns if column not in df.columns]\n",
    "        print(f\"The following required columns do not exist in the DataFrame: {missing_columns}\")\n"
   ]
  },
  {
   "cell_type": "code",
   "execution_count": 3,
   "id": "239f503a",
   "metadata": {},
   "outputs": [
    {
     "name": "stdout",
     "output_type": "stream",
     "text": [
      "Filtered Excel file saved to /home/abozar/pathogenereads/blast2/viroidfilter.xlsx.\n"
     ]
    }
   ],
   "source": [
    "#viroid filter\n",
    "\n",
    "import pandas as pd\n",
    "\n",
    "# Define the path to the Excel file and the filter file\n",
    "excel_file = \"/home/abozar/pathogenereads/blast2/merged_results.xlsx\"\n",
    "filter_file = \"/home/abozar/pathogenereads/blast2/viroidfilter.xlsx\"\n",
    "\n",
    "# Load the Excel file\n",
    "try:\n",
    "    df = pd.read_excel(excel_file)\n",
    "except Exception as e:\n",
    "    print(f\"An error occurred: {e}\")\n",
    "\n",
    "# Proceed if no exception was raised\n",
    "else:\n",
    "    # Define the keywords to filter by\n",
    "    keywords = [\"viroid\"]\n",
    "\n",
    "    # Check if the required columns exist in the DataFrame\n",
    "    required_columns = ['Subject Def', 'Alignment Length', 'E-value']\n",
    "    if all(column in df.columns for column in required_columns):\n",
    "        # Filter the DataFrame to keep rows where column 'Subject Def' contains any of the keywords\n",
    "        filtered_df = df[df['Subject Def'].str.contains('|'.join(keywords), case=False, na=False)]\n",
    "\n",
    "        # Apply additional filters\n",
    "        filtered_df = filtered_df[filtered_df['Alignment Length'] >= 100]  # Filter by 'Alignment Length'\n",
    "        filtered_df = filtered_df[filtered_df['E-value'] <= 0.1]  # Filter by 'E-value'\n",
    "\n",
    "        # Save the filtered DataFrame to a new Excel file\n",
    "        filtered_df.to_excel(filter_file, index=False)\n",
    "\n",
    "        # Print a success message\n",
    "        print(f\"Filtered Excel file saved to {filter_file}.\")\n",
    "    else:\n",
    "        missing_columns = [column for column in required_columns if column not in df.columns]\n",
    "        print(f\"The following required columns do not exist in the DataFrame: {missing_columns}\")\n"
   ]
  },
  {
   "cell_type": "code",
   "execution_count": 4,
   "id": "271ac306",
   "metadata": {},
   "outputs": [
    {
     "name": "stdout",
     "output_type": "stream",
     "text": [
      "Filtered Excel file saved to /home/abozar/pathogenereads/blast2/Phagefilter.xlsx.\n"
     ]
    }
   ],
   "source": [
    "#Phage filter\n",
    "\n",
    "import pandas as pd\n",
    "\n",
    "# Define the path to the Excel file and the filter file\n",
    "excel_file = \"/home/abozar/pathogenereads/blast2/merged_results.xlsx\"\n",
    "filter_file = \"/home/abozar/pathogenereads/blast2/Phagefilter.xlsx\"\n",
    "\n",
    "# Load the Excel file\n",
    "try:\n",
    "    df = pd.read_excel(excel_file)\n",
    "except Exception as e:\n",
    "    print(f\"An error occurred: {e}\")\n",
    "\n",
    "# Proceed if no exception was raised\n",
    "else:\n",
    "    # Define the keywords to filter by\n",
    "    keywords = [\"Phage\"]\n",
    "\n",
    "    # Check if the required columns exist in the DataFrame\n",
    "    required_columns = ['Subject Def', 'Alignment Length', 'E-value']\n",
    "    if all(column in df.columns for column in required_columns):\n",
    "        # Filter the DataFrame to keep rows where column 'Subject Def' contains any of the keywords\n",
    "        filtered_df = df[df['Subject Def'].str.contains('|'.join(keywords), case=False, na=False)]\n",
    "\n",
    "        # Apply additional filters\n",
    "        filtered_df = filtered_df[filtered_df['Alignment Length'] >= 2000]  # Filter by 'Alignment Length'\n",
    "        filtered_df = filtered_df[filtered_df['E-value'] <= 0.001]  # Filter by 'E-value'\n",
    "\n",
    "        # Save the filtered DataFrame to a new Excel file\n",
    "        filtered_df.to_excel(filter_file, index=False)\n",
    "\n",
    "        # Print a success message\n",
    "        print(f\"Filtered Excel file saved to {filter_file}.\")\n",
    "    else:\n",
    "        missing_columns = [column for column in required_columns if column not in df.columns]\n",
    "        print(f\"The following required columns do not exist in the DataFrame: {missing_columns}\")\n",
    "\n"
   ]
  },
  {
   "cell_type": "code",
   "execution_count": null,
   "id": "7ea1072a",
   "metadata": {},
   "outputs": [],
   "source": []
  }
 ],
 "metadata": {
  "kernelspec": {
   "display_name": "Python 3 (ipykernel)",
   "language": "python",
   "name": "python3"
  },
  "language_info": {
   "codemirror_mode": {
    "name": "ipython",
    "version": 3
   },
   "file_extension": ".py",
   "mimetype": "text/x-python",
   "name": "python",
   "nbconvert_exporter": "python",
   "pygments_lexer": "ipython3",
   "version": "3.10.12"
  }
 },
 "nbformat": 4,
 "nbformat_minor": 5
}
